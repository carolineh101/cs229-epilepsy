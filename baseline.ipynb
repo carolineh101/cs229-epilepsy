{
 "cells": [
  {
   "cell_type": "markdown",
   "metadata": {},
   "source": [
    "# Baseline\n",
    "\n",
    "## Set-up\n",
    "- Download the [Depresjon dataset](https://datasets.simula.no/depresjon/), unpack it, and place it in the current directory."
   ]
  },
  {
   "cell_type": "code",
   "execution_count": 1,
   "metadata": {},
   "outputs": [],
   "source": [
    "import matplotlib.pyplot as plt\n",
    "import numpy as np\n",
    "import os\n",
    "from sklearn.linear_model import LogisticRegression, LogisticRegressionCV\n",
    "from sklearn.metrics import f1_score, roc_auc_score\n",
    "from sklearn.model_selection import cross_validate\n",
    "from sklearn.naive_bayes import MultinomialNB"
   ]
  },
  {
   "cell_type": "markdown",
   "metadata": {},
   "source": [
    "## Data\n",
    "We generate two datasets for our baseline:\n",
    "- Logistic regression: with the mean and standard deviation of a given person's activity as our two features\n",
    "- Naive Bayes: with counts of discretized actigraph measurements as our features\n",
    "\n",
    "<font color='red'>Should we use the cutoff for both models?</font>"
   ]
  },
  {
   "cell_type": "code",
   "execution_count": 2,
   "metadata": {},
   "outputs": [],
   "source": [
    "data_dir = 'data'\n",
    "n = len(os.listdir(os.path.join(data_dir, 'condition'))) + len(os.listdir(os.path.join(data_dir, 'control')))\n",
    "cutoff = 19299  # for ensuring equal number of data points per person\n",
    "\n",
    "bin_sz = 40\n",
    "max_activation = 8000\n",
    "bins = range(0, max_activation, bin_sz)\n",
    "\n",
    "X_lr = np.empty((n, 2))\n",
    "X_nb = np.zeros((n, len(bins)), dtype=np.int32)\n",
    "y = np.empty((n,))\n",
    "\n",
    "i = 0\n",
    "for k, v in {'condition': 1, 'control': 0}.items():\n",
    "    for f in os.listdir(os.path.join(data_dir, k)):\n",
    "        activity = np.genfromtxt(os.path.join(data_dir, k, f), delimiter=',', skip_header=True, usecols=[2])[:cutoff]\n",
    "        X_lr[i, :] = np.array([np.mean(activity), np.std(activity)])\n",
    "        discretized_activity = np.digitize(activity, bins)\n",
    "        bin_idxs, counts = np.unique(discretized_activity, return_counts=True)\n",
    "        for bin_idx, count in zip(bin_idxs, counts):\n",
    "            X_nb[i, bin_idx - 1] = count\n",
    "        y[i] = v\n",
    "        i += 1"
   ]
  },
  {
   "cell_type": "markdown",
   "metadata": {},
   "source": [
    "## Models"
   ]
  },
  {
   "cell_type": "markdown",
   "metadata": {},
   "source": [
    "We set up 11-fold cross validation for our models."
   ]
  },
  {
   "cell_type": "code",
   "execution_count": 3,
   "metadata": {},
   "outputs": [],
   "source": [
    "folds = int(n / 5)"
   ]
  },
  {
   "cell_type": "markdown",
   "metadata": {},
   "source": [
    "We evaluate with accuracy, F1 score, and AUC."
   ]
  },
  {
   "cell_type": "code",
   "execution_count": 4,
   "metadata": {},
   "outputs": [],
   "source": [
    "def eval_model(X, y, clf, folds):\n",
    "    metrics = ['accuracy', 'f1', 'roc_auc']\n",
    "    result = cross_validate(clf, X, y, cv=folds, scoring=metrics)\n",
    "    for metric in metrics:\n",
    "        print(metric, ':', np.mean(result['test_{}'.format(metric)]))"
   ]
  },
  {
   "cell_type": "markdown",
   "metadata": {},
   "source": [
    "### Logistic Regression"
   ]
  },
  {
   "cell_type": "code",
   "execution_count": 5,
   "metadata": {},
   "outputs": [
    {
     "name": "stdout",
     "output_type": "stream",
     "text": [
      "Acc:  0.7636363636363637\n",
      "F1:  0.711111111111111\n",
      "AUC:  0.7540760869565217\n"
     ]
    }
   ],
   "source": [
    "clf = LogisticRegressionCV(cv=folds).fit(X_lr, y)\n",
    "y_pred = clf.predict(X_lr)\n",
    "acc = clf.score(X_lr, y)\n",
    "f1 = f1_score(y, y_pred)\n",
    "auc = roc_auc_score(y, y_pred)\n",
    "print('Acc: ', acc)\n",
    "print('F1: ', f1)\n",
    "print('AUC: ', auc)"
   ]
  },
  {
   "cell_type": "markdown",
   "metadata": {},
   "source": [
    "We plot the points and decision boundary."
   ]
  },
  {
   "cell_type": "code",
   "execution_count": 6,
   "metadata": {},
   "outputs": [
    {
     "data": {
      "image/png": "[encoded data removed]",
      "text/plain": [
       "<Figure size 432x288 with 1 Axes>"
      ]
     },
     "metadata": {
      "needs_background": "light"
     },
     "output_type": "display_data"
    }
   ],
   "source": [
    "# Code for plotting taken from CS 229 assignments.\n",
    "plt.figure()\n",
    "plt.plot(X_lr[y == 1, -2], X_lr[y == 1, -1], 'bx', linewidth=2, label='condition')\n",
    "plt.plot(X_lr[y == 0, -2], X_lr[y == 0, -1], 'go', linewidth=2, label='control')\n",
    "\n",
    "# Plot decision boundary (found by solving for theta^T x = 0).\n",
    "x1 = np.arange(min(X_lr[:, -2]), max(X_lr[:, -2]), 0.01)\n",
    "x2 = -(clf.intercept_[0] / clf.coef_[0][1] + clf.coef_[0][0] / clf.coef_[0][1] * x1)\n",
    "plt.plot(x1, x2, c='red', linewidth=2)\n",
    "\n",
    "# Add labels and display.\n",
    "plt.xlabel('mean')\n",
    "plt.ylabel('std')\n",
    "plt.legend()\n",
    "plt.show()"
   ]
  },
  {
   "cell_type": "markdown",
   "metadata": {},
   "source": [
    "### Logistic Regression II\n",
    "<font color='red'>Using this implementation gives different numbers. Any insights/thoughts on what we should use?</font>"
   ]
  },
  {
   "cell_type": "code",
   "execution_count": 7,
   "metadata": {},
   "outputs": [
    {
     "name": "stdout",
     "output_type": "stream",
     "text": [
      "accuracy : 0.7469696969696972\n",
      "f1 : 0.6787878787878788\n",
      "roc_auc : 0.8611111111111112\n"
     ]
    }
   ],
   "source": [
    "eval_model(X_lr, y, LogisticRegression(), folds)"
   ]
  },
  {
   "cell_type": "markdown",
   "metadata": {},
   "source": [
    "### Naive Bayes"
   ]
  },
  {
   "cell_type": "code",
   "execution_count": 8,
   "metadata": {},
   "outputs": [
    {
     "name": "stdout",
     "output_type": "stream",
     "text": [
      "accuracy : 0.7424242424242425\n",
      "f1 : 0.693939393939394\n",
      "roc_auc : 0.8055555555555555\n"
     ]
    }
   ],
   "source": [
    "eval_model(X_nb, y, MultinomialNB(), folds)"
   ]
  }
 ],
 "metadata": {
  "kernelspec": {
   "display_name": "Python 3",
   "language": "python",
   "name": "python3"
  },
  "language_info": {
   "codemirror_mode": {
    "name": "ipython",
    "version": 3
   },
   "file_extension": ".py",
   "mimetype": "text/x-python",
   "name": "python",
   "nbconvert_exporter": "python",
   "pygments_lexer": "ipython3",
   "version": "3.7.0"
  },
  "widgets": {
   "state": {},
   "version": "1.1.2"
  }
 },
 "nbformat": 4,
 "nbformat_minor": 1
}
