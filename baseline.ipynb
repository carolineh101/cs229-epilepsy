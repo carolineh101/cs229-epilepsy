{
 "cells": [
  {
   "cell_type": "markdown",
   "metadata": {},
   "source": [
    "# Baseline\n",
    "\n",
    "## Set-up\n",
    "- Download the [Depresjon dataset](https://datasets.simula.no/depresjon/), unpack it, and place it in the current directory."
   ]
  },
  {
   "cell_type": "code",
   "execution_count": 1,
   "metadata": {},
   "outputs": [],
   "source": [
    "import matplotlib.pyplot as plt\n",
    "import numpy as np\n",
    "import os\n",
    "from sklearn.linear_model import LogisticRegressionCV\n",
    "from sklearn.metrics import f1_score"
   ]
  },
  {
   "cell_type": "code",
   "execution_count": 2,
   "metadata": {},
   "outputs": [],
   "source": [
    "seed = 0"
   ]
  },
  {
   "cell_type": "markdown",
   "metadata": {},
   "source": [
    "## Data\n",
    "\n",
    "We generate a simple dataset with the mean and standard deviation of a given person's activity as our two features."
   ]
  },
  {
   "cell_type": "code",
   "execution_count": 3,
   "metadata": {},
   "outputs": [],
   "source": [
    "data_dir = 'data'\n",
    "\n",
    "n = len(os.listdir(os.path.join(data_dir, 'condition'))) + len(os.listdir(os.path.join(data_dir, 'control')))\n",
    "data = np.empty((n, 3))\n",
    "i = 0\n",
    "\n",
    "for k, v in {'condition': 1, 'control': 0}.items():\n",
    "    for file in os.listdir(os.path.join(data_dir, k)):\n",
    "        activity = np.genfromtxt(os.path.join(data_dir, k, file), delimiter=',', skip_header=True, usecols=[2])\n",
    "        data[i, :] = np.array([np.mean(activity), np.std(activity), v])\n",
    "        i += 1\n",
    "\n",
    "X = data[:, :2]\n",
    "y = data[:, 2]"
   ]
  },
  {
   "cell_type": "markdown",
   "metadata": {},
   "source": [
    "## Model\n",
    "\n",
    "We use a logistic regression model using 11-fold cross validation as our baseline."
   ]
  },
  {
   "cell_type": "code",
   "execution_count": 4,
   "metadata": {},
   "outputs": [
    {
     "name": "stdout",
     "output_type": "stream",
     "text": [
      "Acc:  0.6363636363636364\n",
      "F1:  0.47368421052631576\n"
     ]
    }
   ],
   "source": [
    "folds = int(n / 5)\n",
    "clf = LogisticRegressionCV(cv=folds, random_state=seed).fit(X, y)\n",
    "y_pred = clf.predict(X)\n",
    "acc = clf.score(X, y)\n",
    "f1 = f1_score(y, y_pred)\n",
    "print('Acc: ', acc)\n",
    "print('F1: ', f1)"
   ]
  },
  {
   "cell_type": "code",
   "execution_count": 5,
   "metadata": {},
   "outputs": [
    {
     "data": {
      "image/png": "[encoded data removed]",
      "text/plain": [
       "<Figure size 432x288 with 1 Axes>"
      ]
     },
     "metadata": {
      "needs_background": "light"
     },
     "output_type": "display_data"
    }
   ],
   "source": [
    "# Code for plotting taken from CS 229 assignments.\n",
    "plt.figure()\n",
    "plt.plot(X[y == 1, -2], X[y == 1, -1], 'bx', linewidth=2, label='condition')\n",
    "plt.plot(X[y == 0, -2], X[y == 0, -1], 'go', linewidth=2, label='control')\n",
    "\n",
    "# Plot decision boundary (found by solving for theta^T x = 0).\n",
    "x1 = np.arange(min(X[:, -2]), max(X[:, -2]), 0.01)\n",
    "x2 = -(clf.intercept_[0] / clf.coef_[0][1] + clf.coef_[0][0] / clf.coef_[0][1] * x1)\n",
    "plt.plot(x1, x2, c='red', linewidth=2)\n",
    "\n",
    "# Add labels and display.\n",
    "plt.xlabel('mean')\n",
    "plt.ylabel('std')\n",
    "plt.show()"
   ]
  }
 ],
 "metadata": {
  "kernelspec": {
   "display_name": "Python 3",
   "language": "python",
   "name": "python3"
  },
  "language_info": {
   "codemirror_mode": {
    "name": "ipython",
    "version": 3
   },
   "file_extension": ".py",
   "mimetype": "text/x-python",
   "name": "python",
   "nbconvert_exporter": "python",
   "pygments_lexer": "ipython3",
   "version": "3.7.0"
  },
  "widgets": {
   "state": {},
   "version": "1.1.2"
  }
 },
 "nbformat": 4,
 "nbformat_minor": 1
}
